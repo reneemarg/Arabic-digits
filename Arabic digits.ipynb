{
 "cells": [
  {
   "cell_type": "code",
   "execution_count": 2,
   "metadata": {
    "collapsed": false
   },
   "outputs": [],
   "source": [
    "import pandas as pd\n",
    "import numpy as np\n",
    "import matplotlib.pyplot as plt\n",
    "import matplotlib.axes as ax\n",
    "import seaborn as sns\n",
    "df_test = pd.read_csv(\"arabic_digits_test.csv\",sep = ',')\n",
    "df_train = pd.read_csv(\"arabic_digits_train.csv\",sep=',')\n",
    "df_train[\"Count\"] = df_train.groupby(\"Group_No\")[\"Group_No\"].transform('count')\n",
    "df_test[\"Count\"] = df_test.groupby(\"Group_No\")[\"Group_No\"].transform('count')\n",
    "df_train = df_train[['0', '1', '2', '3', '4', '5', '6', '7', '8', '9', '10', '11', '12','Count','Group_No','Number']]\n",
    "df_test = df_test[['0', '1', '2', '3', '4', '5', '6', '7', '8', '9', '10', '11', '12','Count','Group_No','Number']]"
   ]
  },
  {
   "cell_type": "code",
   "execution_count": 286,
   "metadata": {
    "collapsed": false
   },
   "outputs": [
    {
     "data": {
      "text/plain": [
       "(263256, 16)"
      ]
     },
     "execution_count": 286,
     "metadata": {},
     "output_type": "execute_result"
    }
   ],
   "source": [
    "df_train.shape"
   ]
  },
  {
   "cell_type": "code",
   "execution_count": 337,
   "metadata": {
    "collapsed": false
   },
   "outputs": [
    {
     "data": {
      "text/plain": [
       "(87063, 16)"
      ]
     },
     "execution_count": 337,
     "metadata": {},
     "output_type": "execute_result"
    }
   ],
   "source": [
    "df_test.shape"
   ]
  },
  {
   "cell_type": "code",
   "execution_count": 295,
   "metadata": {
    "collapsed": false
   },
   "outputs": [
    {
     "data": {
      "text/html": [
       "<div>\n",
       "<style>\n",
       "    .dataframe thead tr:only-child th {\n",
       "        text-align: right;\n",
       "    }\n",
       "\n",
       "    .dataframe thead th {\n",
       "        text-align: left;\n",
       "    }\n",
       "\n",
       "    .dataframe tbody tr th {\n",
       "        vertical-align: top;\n",
       "    }\n",
       "</style>\n",
       "<table border=\"1\" class=\"dataframe\">\n",
       "  <thead>\n",
       "    <tr style=\"text-align: right;\">\n",
       "      <th></th>\n",
       "      <th>0</th>\n",
       "      <th>1</th>\n",
       "      <th>2</th>\n",
       "      <th>3</th>\n",
       "      <th>4</th>\n",
       "      <th>5</th>\n",
       "      <th>6</th>\n",
       "      <th>7</th>\n",
       "      <th>8</th>\n",
       "      <th>9</th>\n",
       "      <th>10</th>\n",
       "      <th>11</th>\n",
       "      <th>12</th>\n",
       "      <th>Group_No</th>\n",
       "      <th>Number</th>\n",
       "      <th>Count</th>\n",
       "    </tr>\n",
       "  </thead>\n",
       "  <tbody>\n",
       "    <tr>\n",
       "      <th>count</th>\n",
       "      <td>263256.000000</td>\n",
       "      <td>263256.000000</td>\n",
       "      <td>263256.000000</td>\n",
       "      <td>263256.000000</td>\n",
       "      <td>263256.000000</td>\n",
       "      <td>263256.000000</td>\n",
       "      <td>263256.000000</td>\n",
       "      <td>263256.000000</td>\n",
       "      <td>263256.000000</td>\n",
       "      <td>263256.000000</td>\n",
       "      <td>263256.000000</td>\n",
       "      <td>263256.000000</td>\n",
       "      <td>263256.000000</td>\n",
       "      <td>263256.000000</td>\n",
       "      <td>263256.000000</td>\n",
       "      <td>6600.000000</td>\n",
       "    </tr>\n",
       "    <tr>\n",
       "      <th>mean</th>\n",
       "      <td>1.980291</td>\n",
       "      <td>-3.079727</td>\n",
       "      <td>-0.360437</td>\n",
       "      <td>-1.146497</td>\n",
       "      <td>-0.688541</td>\n",
       "      <td>-0.617507</td>\n",
       "      <td>-0.281008</td>\n",
       "      <td>-0.431595</td>\n",
       "      <td>-0.141176</td>\n",
       "      <td>-0.398858</td>\n",
       "      <td>-0.269781</td>\n",
       "      <td>-0.166669</td>\n",
       "      <td>-0.144303</td>\n",
       "      <td>3374.131932</td>\n",
       "      <td>4.603922</td>\n",
       "      <td>39.887273</td>\n",
       "    </tr>\n",
       "    <tr>\n",
       "      <th>std</th>\n",
       "      <td>2.750261</td>\n",
       "      <td>2.127967</td>\n",
       "      <td>1.736583</td>\n",
       "      <td>1.295992</td>\n",
       "      <td>1.071546</td>\n",
       "      <td>0.872268</td>\n",
       "      <td>0.729381</td>\n",
       "      <td>0.835536</td>\n",
       "      <td>0.649690</td>\n",
       "      <td>0.636289</td>\n",
       "      <td>0.629079</td>\n",
       "      <td>0.591821</td>\n",
       "      <td>0.539460</td>\n",
       "      <td>1877.991353</td>\n",
       "      <td>2.830455</td>\n",
       "      <td>8.716217</td>\n",
       "    </tr>\n",
       "    <tr>\n",
       "      <th>min</th>\n",
       "      <td>-10.435000</td>\n",
       "      <td>-12.957000</td>\n",
       "      <td>-6.661500</td>\n",
       "      <td>-5.600300</td>\n",
       "      <td>-5.493700</td>\n",
       "      <td>-4.140700</td>\n",
       "      <td>-3.359400</td>\n",
       "      <td>-3.473100</td>\n",
       "      <td>-3.353200</td>\n",
       "      <td>-2.723600</td>\n",
       "      <td>-2.633000</td>\n",
       "      <td>-2.565400</td>\n",
       "      <td>-2.382800</td>\n",
       "      <td>0.000000</td>\n",
       "      <td>0.000000</td>\n",
       "      <td>4.000000</td>\n",
       "    </tr>\n",
       "    <tr>\n",
       "      <th>25%</th>\n",
       "      <td>0.542065</td>\n",
       "      <td>-4.031600</td>\n",
       "      <td>-1.546500</td>\n",
       "      <td>-2.162800</td>\n",
       "      <td>-1.403600</td>\n",
       "      <td>-1.231700</td>\n",
       "      <td>-0.783250</td>\n",
       "      <td>-0.990732</td>\n",
       "      <td>-0.571503</td>\n",
       "      <td>-0.852713</td>\n",
       "      <td>-0.700050</td>\n",
       "      <td>-0.564740</td>\n",
       "      <td>-0.511920</td>\n",
       "      <td>1794.000000</td>\n",
       "      <td>2.000000</td>\n",
       "      <td>34.000000</td>\n",
       "    </tr>\n",
       "    <tr>\n",
       "      <th>50%</th>\n",
       "      <td>2.382500</td>\n",
       "      <td>-2.764100</td>\n",
       "      <td>-0.050925</td>\n",
       "      <td>-1.134700</td>\n",
       "      <td>-0.679640</td>\n",
       "      <td>-0.588800</td>\n",
       "      <td>-0.281685</td>\n",
       "      <td>-0.388910</td>\n",
       "      <td>-0.093730</td>\n",
       "      <td>-0.394355</td>\n",
       "      <td>-0.292490</td>\n",
       "      <td>-0.156070</td>\n",
       "      <td>-0.150575</td>\n",
       "      <td>3325.000000</td>\n",
       "      <td>5.000000</td>\n",
       "      <td>39.000000</td>\n",
       "    </tr>\n",
       "    <tr>\n",
       "      <th>75%</th>\n",
       "      <td>3.903800</td>\n",
       "      <td>-1.834200</td>\n",
       "      <td>0.911197</td>\n",
       "      <td>-0.105610</td>\n",
       "      <td>0.054391</td>\n",
       "      <td>0.016132</td>\n",
       "      <td>0.232533</td>\n",
       "      <td>0.172932</td>\n",
       "      <td>0.326625</td>\n",
       "      <td>0.076632</td>\n",
       "      <td>0.144352</td>\n",
       "      <td>0.237935</td>\n",
       "      <td>0.208890</td>\n",
       "      <td>5044.000000</td>\n",
       "      <td>7.000000</td>\n",
       "      <td>45.000000</td>\n",
       "    </tr>\n",
       "    <tr>\n",
       "      <th>max</th>\n",
       "      <td>9.155000</td>\n",
       "      <td>9.341600</td>\n",
       "      <td>5.324700</td>\n",
       "      <td>4.501400</td>\n",
       "      <td>3.662700</td>\n",
       "      <td>3.285500</td>\n",
       "      <td>2.864600</td>\n",
       "      <td>2.996500</td>\n",
       "      <td>2.514700</td>\n",
       "      <td>2.076800</td>\n",
       "      <td>3.077400</td>\n",
       "      <td>2.748700</td>\n",
       "      <td>2.971000</td>\n",
       "      <td>6599.000000</td>\n",
       "      <td>9.000000</td>\n",
       "      <td>93.000000</td>\n",
       "    </tr>\n",
       "  </tbody>\n",
       "</table>\n",
       "</div>"
      ],
      "text/plain": [
       "                   0              1              2              3  \\\n",
       "count  263256.000000  263256.000000  263256.000000  263256.000000   \n",
       "mean        1.980291      -3.079727      -0.360437      -1.146497   \n",
       "std         2.750261       2.127967       1.736583       1.295992   \n",
       "min       -10.435000     -12.957000      -6.661500      -5.600300   \n",
       "25%         0.542065      -4.031600      -1.546500      -2.162800   \n",
       "50%         2.382500      -2.764100      -0.050925      -1.134700   \n",
       "75%         3.903800      -1.834200       0.911197      -0.105610   \n",
       "max         9.155000       9.341600       5.324700       4.501400   \n",
       "\n",
       "                   4              5              6              7  \\\n",
       "count  263256.000000  263256.000000  263256.000000  263256.000000   \n",
       "mean       -0.688541      -0.617507      -0.281008      -0.431595   \n",
       "std         1.071546       0.872268       0.729381       0.835536   \n",
       "min        -5.493700      -4.140700      -3.359400      -3.473100   \n",
       "25%        -1.403600      -1.231700      -0.783250      -0.990732   \n",
       "50%        -0.679640      -0.588800      -0.281685      -0.388910   \n",
       "75%         0.054391       0.016132       0.232533       0.172932   \n",
       "max         3.662700       3.285500       2.864600       2.996500   \n",
       "\n",
       "                   8              9             10             11  \\\n",
       "count  263256.000000  263256.000000  263256.000000  263256.000000   \n",
       "mean       -0.141176      -0.398858      -0.269781      -0.166669   \n",
       "std         0.649690       0.636289       0.629079       0.591821   \n",
       "min        -3.353200      -2.723600      -2.633000      -2.565400   \n",
       "25%        -0.571503      -0.852713      -0.700050      -0.564740   \n",
       "50%        -0.093730      -0.394355      -0.292490      -0.156070   \n",
       "75%         0.326625       0.076632       0.144352       0.237935   \n",
       "max         2.514700       2.076800       3.077400       2.748700   \n",
       "\n",
       "                  12       Group_No         Number        Count  \n",
       "count  263256.000000  263256.000000  263256.000000  6600.000000  \n",
       "mean       -0.144303    3374.131932       4.603922    39.887273  \n",
       "std         0.539460    1877.991353       2.830455     8.716217  \n",
       "min        -2.382800       0.000000       0.000000     4.000000  \n",
       "25%        -0.511920    1794.000000       2.000000    34.000000  \n",
       "50%        -0.150575    3325.000000       5.000000    39.000000  \n",
       "75%         0.208890    5044.000000       7.000000    45.000000  \n",
       "max         2.971000    6599.000000       9.000000    93.000000  "
      ]
     },
     "execution_count": 295,
     "metadata": {},
     "output_type": "execute_result"
    }
   ],
   "source": [
    "df_train.describe()"
   ]
  },
  {
   "cell_type": "code",
   "execution_count": 20,
   "metadata": {
    "collapsed": false
   },
   "outputs": [
    {
     "data": {
      "text/html": [
       "<div>\n",
       "<style>\n",
       "    .dataframe thead tr:only-child th {\n",
       "        text-align: right;\n",
       "    }\n",
       "\n",
       "    .dataframe thead th {\n",
       "        text-align: left;\n",
       "    }\n",
       "\n",
       "    .dataframe tbody tr th {\n",
       "        vertical-align: top;\n",
       "    }\n",
       "</style>\n",
       "<table border=\"1\" class=\"dataframe\">\n",
       "  <thead>\n",
       "    <tr style=\"text-align: right;\">\n",
       "      <th></th>\n",
       "      <th>0</th>\n",
       "      <th>1</th>\n",
       "      <th>2</th>\n",
       "      <th>3</th>\n",
       "      <th>4</th>\n",
       "      <th>5</th>\n",
       "      <th>6</th>\n",
       "      <th>7</th>\n",
       "      <th>8</th>\n",
       "      <th>9</th>\n",
       "      <th>10</th>\n",
       "      <th>11</th>\n",
       "      <th>12</th>\n",
       "      <th>Count</th>\n",
       "      <th>Group_No</th>\n",
       "      <th>Number</th>\n",
       "      <th>Person</th>\n",
       "    </tr>\n",
       "  </thead>\n",
       "  <tbody>\n",
       "    <tr>\n",
       "      <th>count</th>\n",
       "      <td>263256.000000</td>\n",
       "      <td>263256.000000</td>\n",
       "      <td>263256.000000</td>\n",
       "      <td>263256.000000</td>\n",
       "      <td>263256.000000</td>\n",
       "      <td>263256.000000</td>\n",
       "      <td>263256.000000</td>\n",
       "      <td>263256.000000</td>\n",
       "      <td>263256.000000</td>\n",
       "      <td>263256.000000</td>\n",
       "      <td>263256.000000</td>\n",
       "      <td>263256.000000</td>\n",
       "      <td>263256.000000</td>\n",
       "      <td>263256.000000</td>\n",
       "      <td>263256.000000</td>\n",
       "      <td>263256.000000</td>\n",
       "      <td>263256.000000</td>\n",
       "    </tr>\n",
       "    <tr>\n",
       "      <th>mean</th>\n",
       "      <td>1.980291</td>\n",
       "      <td>-3.079727</td>\n",
       "      <td>-0.360437</td>\n",
       "      <td>-1.146497</td>\n",
       "      <td>-0.688541</td>\n",
       "      <td>-0.617507</td>\n",
       "      <td>-0.281008</td>\n",
       "      <td>-0.431595</td>\n",
       "      <td>-0.141176</td>\n",
       "      <td>-0.398858</td>\n",
       "      <td>-0.269781</td>\n",
       "      <td>-0.166669</td>\n",
       "      <td>-0.144303</td>\n",
       "      <td>41.791663</td>\n",
       "      <td>3374.131932</td>\n",
       "      <td>4.603922</td>\n",
       "      <td>33.104510</td>\n",
       "    </tr>\n",
       "    <tr>\n",
       "      <th>std</th>\n",
       "      <td>2.750261</td>\n",
       "      <td>2.127967</td>\n",
       "      <td>1.736583</td>\n",
       "      <td>1.295992</td>\n",
       "      <td>1.071546</td>\n",
       "      <td>0.872268</td>\n",
       "      <td>0.729381</td>\n",
       "      <td>0.835536</td>\n",
       "      <td>0.649690</td>\n",
       "      <td>0.636289</td>\n",
       "      <td>0.629079</td>\n",
       "      <td>0.591821</td>\n",
       "      <td>0.539460</td>\n",
       "      <td>8.822215</td>\n",
       "      <td>1877.991353</td>\n",
       "      <td>2.830455</td>\n",
       "      <td>18.801597</td>\n",
       "    </tr>\n",
       "    <tr>\n",
       "      <th>min</th>\n",
       "      <td>-10.435000</td>\n",
       "      <td>-12.957000</td>\n",
       "      <td>-6.661500</td>\n",
       "      <td>-5.600300</td>\n",
       "      <td>-5.493700</td>\n",
       "      <td>-4.140700</td>\n",
       "      <td>-3.359400</td>\n",
       "      <td>-3.473100</td>\n",
       "      <td>-3.353200</td>\n",
       "      <td>-2.723600</td>\n",
       "      <td>-2.633000</td>\n",
       "      <td>-2.565400</td>\n",
       "      <td>-2.382800</td>\n",
       "      <td>4.000000</td>\n",
       "      <td>0.000000</td>\n",
       "      <td>0.000000</td>\n",
       "      <td>0.000000</td>\n",
       "    </tr>\n",
       "    <tr>\n",
       "      <th>25%</th>\n",
       "      <td>0.542065</td>\n",
       "      <td>-4.031600</td>\n",
       "      <td>-1.546500</td>\n",
       "      <td>-2.162800</td>\n",
       "      <td>-1.403600</td>\n",
       "      <td>-1.231700</td>\n",
       "      <td>-0.783250</td>\n",
       "      <td>-0.990732</td>\n",
       "      <td>-0.571503</td>\n",
       "      <td>-0.852713</td>\n",
       "      <td>-0.700050</td>\n",
       "      <td>-0.564740</td>\n",
       "      <td>-0.511920</td>\n",
       "      <td>36.000000</td>\n",
       "      <td>1794.000000</td>\n",
       "      <td>2.000000</td>\n",
       "      <td>17.000000</td>\n",
       "    </tr>\n",
       "    <tr>\n",
       "      <th>50%</th>\n",
       "      <td>2.382500</td>\n",
       "      <td>-2.764100</td>\n",
       "      <td>-0.050925</td>\n",
       "      <td>-1.134700</td>\n",
       "      <td>-0.679640</td>\n",
       "      <td>-0.588800</td>\n",
       "      <td>-0.281685</td>\n",
       "      <td>-0.388910</td>\n",
       "      <td>-0.093730</td>\n",
       "      <td>-0.394355</td>\n",
       "      <td>-0.292490</td>\n",
       "      <td>-0.156070</td>\n",
       "      <td>-0.150575</td>\n",
       "      <td>41.000000</td>\n",
       "      <td>3325.000000</td>\n",
       "      <td>5.000000</td>\n",
       "      <td>34.000000</td>\n",
       "    </tr>\n",
       "    <tr>\n",
       "      <th>75%</th>\n",
       "      <td>3.903800</td>\n",
       "      <td>-1.834200</td>\n",
       "      <td>0.911197</td>\n",
       "      <td>-0.105610</td>\n",
       "      <td>0.054391</td>\n",
       "      <td>0.016132</td>\n",
       "      <td>0.232533</td>\n",
       "      <td>0.172932</td>\n",
       "      <td>0.326625</td>\n",
       "      <td>0.076632</td>\n",
       "      <td>0.144352</td>\n",
       "      <td>0.237935</td>\n",
       "      <td>0.208890</td>\n",
       "      <td>47.000000</td>\n",
       "      <td>5044.000000</td>\n",
       "      <td>7.000000</td>\n",
       "      <td>49.000000</td>\n",
       "    </tr>\n",
       "    <tr>\n",
       "      <th>max</th>\n",
       "      <td>9.155000</td>\n",
       "      <td>9.341600</td>\n",
       "      <td>5.324700</td>\n",
       "      <td>4.501400</td>\n",
       "      <td>3.662700</td>\n",
       "      <td>3.285500</td>\n",
       "      <td>2.864600</td>\n",
       "      <td>2.996500</td>\n",
       "      <td>2.514700</td>\n",
       "      <td>2.076800</td>\n",
       "      <td>3.077400</td>\n",
       "      <td>2.748700</td>\n",
       "      <td>2.971000</td>\n",
       "      <td>93.000000</td>\n",
       "      <td>6599.000000</td>\n",
       "      <td>9.000000</td>\n",
       "      <td>65.000000</td>\n",
       "    </tr>\n",
       "  </tbody>\n",
       "</table>\n",
       "</div>"
      ],
      "text/plain": [
       "                   0              1              2              3  \\\n",
       "count  263256.000000  263256.000000  263256.000000  263256.000000   \n",
       "mean        1.980291      -3.079727      -0.360437      -1.146497   \n",
       "std         2.750261       2.127967       1.736583       1.295992   \n",
       "min       -10.435000     -12.957000      -6.661500      -5.600300   \n",
       "25%         0.542065      -4.031600      -1.546500      -2.162800   \n",
       "50%         2.382500      -2.764100      -0.050925      -1.134700   \n",
       "75%         3.903800      -1.834200       0.911197      -0.105610   \n",
       "max         9.155000       9.341600       5.324700       4.501400   \n",
       "\n",
       "                   4              5              6              7  \\\n",
       "count  263256.000000  263256.000000  263256.000000  263256.000000   \n",
       "mean       -0.688541      -0.617507      -0.281008      -0.431595   \n",
       "std         1.071546       0.872268       0.729381       0.835536   \n",
       "min        -5.493700      -4.140700      -3.359400      -3.473100   \n",
       "25%        -1.403600      -1.231700      -0.783250      -0.990732   \n",
       "50%        -0.679640      -0.588800      -0.281685      -0.388910   \n",
       "75%         0.054391       0.016132       0.232533       0.172932   \n",
       "max         3.662700       3.285500       2.864600       2.996500   \n",
       "\n",
       "                   8              9             10             11  \\\n",
       "count  263256.000000  263256.000000  263256.000000  263256.000000   \n",
       "mean       -0.141176      -0.398858      -0.269781      -0.166669   \n",
       "std         0.649690       0.636289       0.629079       0.591821   \n",
       "min        -3.353200      -2.723600      -2.633000      -2.565400   \n",
       "25%        -0.571503      -0.852713      -0.700050      -0.564740   \n",
       "50%        -0.093730      -0.394355      -0.292490      -0.156070   \n",
       "75%         0.326625       0.076632       0.144352       0.237935   \n",
       "max         2.514700       2.076800       3.077400       2.748700   \n",
       "\n",
       "                  12          Count       Group_No         Number  \\\n",
       "count  263256.000000  263256.000000  263256.000000  263256.000000   \n",
       "mean       -0.144303      41.791663    3374.131932       4.603922   \n",
       "std         0.539460       8.822215    1877.991353       2.830455   \n",
       "min        -2.382800       4.000000       0.000000       0.000000   \n",
       "25%        -0.511920      36.000000    1794.000000       2.000000   \n",
       "50%        -0.150575      41.000000    3325.000000       5.000000   \n",
       "75%         0.208890      47.000000    5044.000000       7.000000   \n",
       "max         2.971000      93.000000    6599.000000       9.000000   \n",
       "\n",
       "              Person  \n",
       "count  263256.000000  \n",
       "mean       33.104510  \n",
       "std        18.801597  \n",
       "min         0.000000  \n",
       "25%        17.000000  \n",
       "50%        34.000000  \n",
       "75%        49.000000  \n",
       "max        65.000000  "
      ]
     },
     "execution_count": 20,
     "metadata": {},
     "output_type": "execute_result"
    }
   ],
   "source": [
    "df_train.describe()"
   ]
  },
  {
   "cell_type": "code",
   "execution_count": 268,
   "metadata": {
    "collapsed": false
   },
   "outputs": [
    {
     "data": {
      "text/html": [
       "<div>\n",
       "<style>\n",
       "    .dataframe thead tr:only-child th {\n",
       "        text-align: right;\n",
       "    }\n",
       "\n",
       "    .dataframe thead th {\n",
       "        text-align: left;\n",
       "    }\n",
       "\n",
       "    .dataframe tbody tr th {\n",
       "        vertical-align: top;\n",
       "    }\n",
       "</style>\n",
       "<table border=\"1\" class=\"dataframe\">\n",
       "  <thead>\n",
       "    <tr style=\"text-align: right;\">\n",
       "      <th></th>\n",
       "      <th>0</th>\n",
       "      <th>1</th>\n",
       "      <th>2</th>\n",
       "      <th>3</th>\n",
       "      <th>4</th>\n",
       "      <th>5</th>\n",
       "      <th>6</th>\n",
       "      <th>7</th>\n",
       "      <th>8</th>\n",
       "      <th>9</th>\n",
       "      <th>10</th>\n",
       "      <th>11</th>\n",
       "      <th>12</th>\n",
       "      <th>Group_No</th>\n",
       "      <th>Number</th>\n",
       "    </tr>\n",
       "  </thead>\n",
       "  <tbody>\n",
       "    <tr>\n",
       "      <th>87058</th>\n",
       "      <td>4.35140</td>\n",
       "      <td>-3.9806</td>\n",
       "      <td>-3.5540</td>\n",
       "      <td>-3.8917</td>\n",
       "      <td>-0.002907</td>\n",
       "      <td>0.040458</td>\n",
       "      <td>-2.2955</td>\n",
       "      <td>0.150910</td>\n",
       "      <td>-1.2397</td>\n",
       "      <td>-0.632770</td>\n",
       "      <td>-0.55911</td>\n",
       "      <td>0.42101</td>\n",
       "      <td>0.85783</td>\n",
       "      <td>2199</td>\n",
       "      <td>9</td>\n",
       "    </tr>\n",
       "    <tr>\n",
       "      <th>87059</th>\n",
       "      <td>4.04650</td>\n",
       "      <td>-3.3982</td>\n",
       "      <td>-3.2422</td>\n",
       "      <td>-3.5811</td>\n",
       "      <td>0.230780</td>\n",
       "      <td>0.105050</td>\n",
       "      <td>-2.2237</td>\n",
       "      <td>-0.056953</td>\n",
       "      <td>-1.1634</td>\n",
       "      <td>-0.061821</td>\n",
       "      <td>-0.54265</td>\n",
       "      <td>0.78431</td>\n",
       "      <td>0.92638</td>\n",
       "      <td>2199</td>\n",
       "      <td>9</td>\n",
       "    </tr>\n",
       "    <tr>\n",
       "      <th>87060</th>\n",
       "      <td>3.51670</td>\n",
       "      <td>-2.6448</td>\n",
       "      <td>-2.5283</td>\n",
       "      <td>-3.6338</td>\n",
       "      <td>0.563620</td>\n",
       "      <td>-0.274010</td>\n",
       "      <td>-1.8817</td>\n",
       "      <td>-0.341450</td>\n",
       "      <td>-1.2124</td>\n",
       "      <td>-0.204070</td>\n",
       "      <td>-0.41686</td>\n",
       "      <td>0.83729</td>\n",
       "      <td>1.32030</td>\n",
       "      <td>2199</td>\n",
       "      <td>9</td>\n",
       "    </tr>\n",
       "    <tr>\n",
       "      <th>87061</th>\n",
       "      <td>2.44880</td>\n",
       "      <td>-2.6228</td>\n",
       "      <td>-1.9276</td>\n",
       "      <td>-2.9711</td>\n",
       "      <td>0.348380</td>\n",
       "      <td>-0.429250</td>\n",
       "      <td>-1.4285</td>\n",
       "      <td>-0.852370</td>\n",
       "      <td>-1.2993</td>\n",
       "      <td>-0.864420</td>\n",
       "      <td>-0.15241</td>\n",
       "      <td>0.82354</td>\n",
       "      <td>1.32760</td>\n",
       "      <td>2199</td>\n",
       "      <td>9</td>\n",
       "    </tr>\n",
       "    <tr>\n",
       "      <th>87062</th>\n",
       "      <td>0.71619</td>\n",
       "      <td>-3.0820</td>\n",
       "      <td>-1.0258</td>\n",
       "      <td>-1.7718</td>\n",
       "      <td>0.047786</td>\n",
       "      <td>-0.603850</td>\n",
       "      <td>-1.2174</td>\n",
       "      <td>-1.824000</td>\n",
       "      <td>-1.0532</td>\n",
       "      <td>-1.052800</td>\n",
       "      <td>-0.67504</td>\n",
       "      <td>0.39320</td>\n",
       "      <td>0.83912</td>\n",
       "      <td>2199</td>\n",
       "      <td>9</td>\n",
       "    </tr>\n",
       "  </tbody>\n",
       "</table>\n",
       "</div>"
      ],
      "text/plain": [
       "             0       1       2       3         4         5       6         7  \\\n",
       "87058  4.35140 -3.9806 -3.5540 -3.8917 -0.002907  0.040458 -2.2955  0.150910   \n",
       "87059  4.04650 -3.3982 -3.2422 -3.5811  0.230780  0.105050 -2.2237 -0.056953   \n",
       "87060  3.51670 -2.6448 -2.5283 -3.6338  0.563620 -0.274010 -1.8817 -0.341450   \n",
       "87061  2.44880 -2.6228 -1.9276 -2.9711  0.348380 -0.429250 -1.4285 -0.852370   \n",
       "87062  0.71619 -3.0820 -1.0258 -1.7718  0.047786 -0.603850 -1.2174 -1.824000   \n",
       "\n",
       "            8         9       10       11       12  Group_No  Number  \n",
       "87058 -1.2397 -0.632770 -0.55911  0.42101  0.85783      2199       9  \n",
       "87059 -1.1634 -0.061821 -0.54265  0.78431  0.92638      2199       9  \n",
       "87060 -1.2124 -0.204070 -0.41686  0.83729  1.32030      2199       9  \n",
       "87061 -1.2993 -0.864420 -0.15241  0.82354  1.32760      2199       9  \n",
       "87062 -1.0532 -1.052800 -0.67504  0.39320  0.83912      2199       9  "
      ]
     },
     "execution_count": 268,
     "metadata": {},
     "output_type": "execute_result"
    }
   ],
   "source": [
    "df_train.isnull().sum()"
   ]
  },
  {
   "cell_type": "code",
   "execution_count": null,
   "metadata": {
    "collapsed": true
   },
   "outputs": [],
   "source": [
    "df_test.isnull().sum()"
   ]
  },
  {
   "cell_type": "code",
   "execution_count": 12,
   "metadata": {
    "collapsed": false
   },
   "outputs": [
    {
     "data": {
      "text/plain": [
       "1"
      ]
     },
     "execution_count": 12,
     "metadata": {},
     "output_type": "execute_result"
    }
   ],
   "source": []
  },
  {
   "cell_type": "code",
   "execution_count": null,
   "metadata": {
    "collapsed": false
   },
   "outputs": [],
   "source": [
    "for i in range(263256):\n",
    "    df_train[\"Person\"] = (df_train[\"Group_No\"] % 660) // 10"
   ]
  },
  {
   "cell_type": "code",
   "execution_count": 346,
   "metadata": {
    "collapsed": false
   },
   "outputs": [
    {
     "data": {
      "text/html": [
       "<div>\n",
       "<style>\n",
       "    .dataframe thead tr:only-child th {\n",
       "        text-align: right;\n",
       "    }\n",
       "\n",
       "    .dataframe thead th {\n",
       "        text-align: left;\n",
       "    }\n",
       "\n",
       "    .dataframe tbody tr th {\n",
       "        vertical-align: top;\n",
       "    }\n",
       "</style>\n",
       "<table border=\"1\" class=\"dataframe\">\n",
       "  <thead>\n",
       "    <tr style=\"text-align: right;\">\n",
       "      <th></th>\n",
       "      <th>0</th>\n",
       "      <th>1</th>\n",
       "      <th>2</th>\n",
       "      <th>3</th>\n",
       "      <th>4</th>\n",
       "      <th>5</th>\n",
       "      <th>6</th>\n",
       "      <th>7</th>\n",
       "      <th>8</th>\n",
       "      <th>9</th>\n",
       "      <th>10</th>\n",
       "      <th>11</th>\n",
       "      <th>12</th>\n",
       "      <th>Group_No</th>\n",
       "      <th>Count</th>\n",
       "      <th>Number</th>\n",
       "    </tr>\n",
       "  </thead>\n",
       "  <tbody>\n",
       "    <tr>\n",
       "      <th>87058</th>\n",
       "      <td>4.35140</td>\n",
       "      <td>-3.9806</td>\n",
       "      <td>-3.5540</td>\n",
       "      <td>-3.8917</td>\n",
       "      <td>-0.002907</td>\n",
       "      <td>0.040458</td>\n",
       "      <td>-2.2955</td>\n",
       "      <td>0.150910</td>\n",
       "      <td>-1.2397</td>\n",
       "      <td>-0.632770</td>\n",
       "      <td>-0.55911</td>\n",
       "      <td>0.42101</td>\n",
       "      <td>0.85783</td>\n",
       "      <td>2199</td>\n",
       "      <td>34</td>\n",
       "      <td>9</td>\n",
       "    </tr>\n",
       "    <tr>\n",
       "      <th>87059</th>\n",
       "      <td>4.04650</td>\n",
       "      <td>-3.3982</td>\n",
       "      <td>-3.2422</td>\n",
       "      <td>-3.5811</td>\n",
       "      <td>0.230780</td>\n",
       "      <td>0.105050</td>\n",
       "      <td>-2.2237</td>\n",
       "      <td>-0.056953</td>\n",
       "      <td>-1.1634</td>\n",
       "      <td>-0.061821</td>\n",
       "      <td>-0.54265</td>\n",
       "      <td>0.78431</td>\n",
       "      <td>0.92638</td>\n",
       "      <td>2199</td>\n",
       "      <td>34</td>\n",
       "      <td>9</td>\n",
       "    </tr>\n",
       "    <tr>\n",
       "      <th>87060</th>\n",
       "      <td>3.51670</td>\n",
       "      <td>-2.6448</td>\n",
       "      <td>-2.5283</td>\n",
       "      <td>-3.6338</td>\n",
       "      <td>0.563620</td>\n",
       "      <td>-0.274010</td>\n",
       "      <td>-1.8817</td>\n",
       "      <td>-0.341450</td>\n",
       "      <td>-1.2124</td>\n",
       "      <td>-0.204070</td>\n",
       "      <td>-0.41686</td>\n",
       "      <td>0.83729</td>\n",
       "      <td>1.32030</td>\n",
       "      <td>2199</td>\n",
       "      <td>34</td>\n",
       "      <td>9</td>\n",
       "    </tr>\n",
       "    <tr>\n",
       "      <th>87061</th>\n",
       "      <td>2.44880</td>\n",
       "      <td>-2.6228</td>\n",
       "      <td>-1.9276</td>\n",
       "      <td>-2.9711</td>\n",
       "      <td>0.348380</td>\n",
       "      <td>-0.429250</td>\n",
       "      <td>-1.4285</td>\n",
       "      <td>-0.852370</td>\n",
       "      <td>-1.2993</td>\n",
       "      <td>-0.864420</td>\n",
       "      <td>-0.15241</td>\n",
       "      <td>0.82354</td>\n",
       "      <td>1.32760</td>\n",
       "      <td>2199</td>\n",
       "      <td>34</td>\n",
       "      <td>9</td>\n",
       "    </tr>\n",
       "    <tr>\n",
       "      <th>87062</th>\n",
       "      <td>0.71619</td>\n",
       "      <td>-3.0820</td>\n",
       "      <td>-1.0258</td>\n",
       "      <td>-1.7718</td>\n",
       "      <td>0.047786</td>\n",
       "      <td>-0.603850</td>\n",
       "      <td>-1.2174</td>\n",
       "      <td>-1.824000</td>\n",
       "      <td>-1.0532</td>\n",
       "      <td>-1.052800</td>\n",
       "      <td>-0.67504</td>\n",
       "      <td>0.39320</td>\n",
       "      <td>0.83912</td>\n",
       "      <td>2199</td>\n",
       "      <td>34</td>\n",
       "      <td>9</td>\n",
       "    </tr>\n",
       "  </tbody>\n",
       "</table>\n",
       "</div>"
      ],
      "text/plain": [
       "             0       1       2       3         4         5       6         7  \\\n",
       "87058  4.35140 -3.9806 -3.5540 -3.8917 -0.002907  0.040458 -2.2955  0.150910   \n",
       "87059  4.04650 -3.3982 -3.2422 -3.5811  0.230780  0.105050 -2.2237 -0.056953   \n",
       "87060  3.51670 -2.6448 -2.5283 -3.6338  0.563620 -0.274010 -1.8817 -0.341450   \n",
       "87061  2.44880 -2.6228 -1.9276 -2.9711  0.348380 -0.429250 -1.4285 -0.852370   \n",
       "87062  0.71619 -3.0820 -1.0258 -1.7718  0.047786 -0.603850 -1.2174 -1.824000   \n",
       "\n",
       "            8         9       10       11       12  Group_No  Count  Number  \n",
       "87058 -1.2397 -0.632770 -0.55911  0.42101  0.85783      2199     34       9  \n",
       "87059 -1.1634 -0.061821 -0.54265  0.78431  0.92638      2199     34       9  \n",
       "87060 -1.2124 -0.204070 -0.41686  0.83729  1.32030      2199     34       9  \n",
       "87061 -1.2993 -0.864420 -0.15241  0.82354  1.32760      2199     34       9  \n",
       "87062 -1.0532 -1.052800 -0.67504  0.39320  0.83912      2199     34       9  "
      ]
     },
     "execution_count": 346,
     "metadata": {},
     "output_type": "execute_result"
    }
   ],
   "source": [
    "df_test.tail()"
   ]
  },
  {
   "cell_type": "code",
   "execution_count": 5,
   "metadata": {
    "collapsed": false,
    "scrolled": true
   },
   "outputs": [],
   "source": [
    "X_train = df_train.iloc[:,:-2]\n",
    "y_train = df_train.iloc[:,-1]\n",
    "X_test = df_test.iloc[:,:-2]\n",
    "y_test = df_test.iloc[:,-1]"
   ]
  },
  {
   "cell_type": "code",
   "execution_count": 6,
   "metadata": {
    "collapsed": false
   },
   "outputs": [],
   "source": [
    "train_r = df_train.sample(frac=1)\n",
    "test_r = df_test.sample(frac=1)\n",
    "X_train_r = train_r.iloc[:5000,:-2]\n",
    "y_train_r = train_r.iloc[:5000,-1]"
   ]
  },
  {
   "cell_type": "code",
   "execution_count": 7,
   "metadata": {
    "collapsed": true
   },
   "outputs": [],
   "source": [
    "df_train_grouped = df_train.groupby(\"Group_No\").agg(['mean'])\n",
    "df_test_grouped = df_test.groupby(\"Group_No\").agg(['mean'])"
   ]
  },
  {
   "cell_type": "code",
   "execution_count": 8,
   "metadata": {
    "collapsed": false
   },
   "outputs": [],
   "source": [
    "train_r_grouped = df_train_grouped.sample(frac=1)\n",
    "test_r_grouped = df_test_grouped.sample(frac=1)\n",
    "X_train_r_grouped = train_r_grouped.iloc[:5000,:-2]\n",
    "y_train_r_grouped = train_r_grouped.iloc[:5000,-1]\n",
    "X_test_grouped = df_test_grouped.iloc[:,:-2]\n",
    "y_test_grouped = df_test_grouped.iloc[:,-1]"
   ]
  },
  {
   "cell_type": "code",
   "execution_count": null,
   "metadata": {
    "collapsed": false
   },
   "outputs": [],
   "source": []
  },
  {
   "cell_type": "code",
   "execution_count": 50,
   "metadata": {
    "collapsed": false
   },
   "outputs": [
    {
     "ename": "AttributeError",
     "evalue": "Unknown property y",
     "output_type": "error",
     "traceback": [
      "\u001b[0;31m---------------------------------------------------------------------------\u001b[0m",
      "\u001b[0;31mAttributeError\u001b[0m                            Traceback (most recent call last)",
      "\u001b[0;32m<ipython-input-50-d97f9792d23c>\u001b[0m in \u001b[0;36m<module>\u001b[0;34m()\u001b[0m\n\u001b[0;32m----> 1\u001b[0;31m \u001b[0mseaborn\u001b[0m\u001b[0;34m.\u001b[0m\u001b[0mheatmap\u001b[0m\u001b[0;34m(\u001b[0m\u001b[0mdata\u001b[0m \u001b[0;34m=\u001b[0m \u001b[0mdf_test_grouped\u001b[0m\u001b[0;34m,\u001b[0m\u001b[0my\u001b[0m\u001b[0;34m=\u001b[0m\u001b[0;34m[\u001b[0m\u001b[0mrange\u001b[0m\u001b[0;34m(\u001b[0m\u001b[0;36m12\u001b[0m\u001b[0;34m)\u001b[0m\u001b[0;34m]\u001b[0m\u001b[0;34m)\u001b[0m\u001b[0;34m\u001b[0m\u001b[0m\n\u001b[0m\u001b[1;32m      2\u001b[0m \u001b[0msns\u001b[0m\u001b[0;34m.\u001b[0m\u001b[0mplt\u001b[0m\u001b[0;34m.\u001b[0m\u001b[0mshow\u001b[0m\u001b[0;34m(\u001b[0m\u001b[0;34m)\u001b[0m\u001b[0;34m\u001b[0m\u001b[0m\n",
      "\u001b[0;32m/anaconda/lib/python3.6/site-packages/seaborn/matrix.py\u001b[0m in \u001b[0;36mheatmap\u001b[0;34m(data, vmin, vmax, cmap, center, robust, annot, fmt, annot_kws, linewidths, linecolor, cbar, cbar_kws, cbar_ax, square, ax, xticklabels, yticklabels, mask, **kwargs)\u001b[0m\n\u001b[1;32m    494\u001b[0m     \u001b[0;32mif\u001b[0m \u001b[0msquare\u001b[0m\u001b[0;34m:\u001b[0m\u001b[0;34m\u001b[0m\u001b[0m\n\u001b[1;32m    495\u001b[0m         \u001b[0max\u001b[0m\u001b[0;34m.\u001b[0m\u001b[0mset_aspect\u001b[0m\u001b[0;34m(\u001b[0m\u001b[0;34m\"equal\"\u001b[0m\u001b[0;34m)\u001b[0m\u001b[0;34m\u001b[0m\u001b[0m\n\u001b[0;32m--> 496\u001b[0;31m     \u001b[0mplotter\u001b[0m\u001b[0;34m.\u001b[0m\u001b[0mplot\u001b[0m\u001b[0;34m(\u001b[0m\u001b[0max\u001b[0m\u001b[0;34m,\u001b[0m \u001b[0mcbar_ax\u001b[0m\u001b[0;34m,\u001b[0m \u001b[0mkwargs\u001b[0m\u001b[0;34m)\u001b[0m\u001b[0;34m\u001b[0m\u001b[0m\n\u001b[0m\u001b[1;32m    497\u001b[0m     \u001b[0;32mreturn\u001b[0m \u001b[0max\u001b[0m\u001b[0;34m\u001b[0m\u001b[0m\n\u001b[1;32m    498\u001b[0m \u001b[0;34m\u001b[0m\u001b[0m\n",
      "\u001b[0;32m/anaconda/lib/python3.6/site-packages/seaborn/matrix.py\u001b[0m in \u001b[0;36mplot\u001b[0;34m(self, ax, cax, kws)\u001b[0m\n\u001b[1;32m    258\u001b[0m         \u001b[0;31m# Draw the heatmap\u001b[0m\u001b[0;34m\u001b[0m\u001b[0;34m\u001b[0m\u001b[0m\n\u001b[1;32m    259\u001b[0m         mesh = ax.pcolormesh(self.plot_data, vmin=self.vmin, vmax=self.vmax,\n\u001b[0;32m--> 260\u001b[0;31m                              cmap=self.cmap, **kws)\n\u001b[0m\u001b[1;32m    261\u001b[0m \u001b[0;34m\u001b[0m\u001b[0m\n\u001b[1;32m    262\u001b[0m         \u001b[0;31m# Set the axis limits\u001b[0m\u001b[0;34m\u001b[0m\u001b[0;34m\u001b[0m\u001b[0m\n",
      "\u001b[0;32m/anaconda/lib/python3.6/site-packages/matplotlib/__init__.py\u001b[0m in \u001b[0;36minner\u001b[0;34m(ax, *args, **kwargs)\u001b[0m\n\u001b[1;32m   1896\u001b[0m                     warnings.warn(msg % (label_namer, func.__name__),\n\u001b[1;32m   1897\u001b[0m                                   RuntimeWarning, stacklevel=2)\n\u001b[0;32m-> 1898\u001b[0;31m             \u001b[0;32mreturn\u001b[0m \u001b[0mfunc\u001b[0m\u001b[0;34m(\u001b[0m\u001b[0max\u001b[0m\u001b[0;34m,\u001b[0m \u001b[0;34m*\u001b[0m\u001b[0margs\u001b[0m\u001b[0;34m,\u001b[0m \u001b[0;34m**\u001b[0m\u001b[0mkwargs\u001b[0m\u001b[0;34m)\u001b[0m\u001b[0;34m\u001b[0m\u001b[0m\n\u001b[0m\u001b[1;32m   1899\u001b[0m         \u001b[0mpre_doc\u001b[0m \u001b[0;34m=\u001b[0m \u001b[0minner\u001b[0m\u001b[0;34m.\u001b[0m\u001b[0m__doc__\u001b[0m\u001b[0;34m\u001b[0m\u001b[0m\n\u001b[1;32m   1900\u001b[0m         \u001b[0;32mif\u001b[0m \u001b[0mpre_doc\u001b[0m \u001b[0;32mis\u001b[0m \u001b[0;32mNone\u001b[0m\u001b[0;34m:\u001b[0m\u001b[0;34m\u001b[0m\u001b[0m\n",
      "\u001b[0;32m/anaconda/lib/python3.6/site-packages/matplotlib/axes/_axes.py\u001b[0m in \u001b[0;36mpcolormesh\u001b[0;34m(self, *args, **kwargs)\u001b[0m\n\u001b[1;32m   5592\u001b[0m         collection = mcoll.QuadMesh(Nx - 1, Ny - 1, coords,\n\u001b[1;32m   5593\u001b[0m                                     \u001b[0mantialiased\u001b[0m\u001b[0;34m=\u001b[0m\u001b[0mantialiased\u001b[0m\u001b[0;34m,\u001b[0m \u001b[0mshading\u001b[0m\u001b[0;34m=\u001b[0m\u001b[0mshading\u001b[0m\u001b[0;34m,\u001b[0m\u001b[0;34m\u001b[0m\u001b[0m\n\u001b[0;32m-> 5594\u001b[0;31m                                     **kwargs)\n\u001b[0m\u001b[1;32m   5595\u001b[0m         \u001b[0mcollection\u001b[0m\u001b[0;34m.\u001b[0m\u001b[0mset_alpha\u001b[0m\u001b[0;34m(\u001b[0m\u001b[0malpha\u001b[0m\u001b[0;34m)\u001b[0m\u001b[0;34m\u001b[0m\u001b[0m\n\u001b[1;32m   5596\u001b[0m         \u001b[0mcollection\u001b[0m\u001b[0;34m.\u001b[0m\u001b[0mset_array\u001b[0m\u001b[0;34m(\u001b[0m\u001b[0mC\u001b[0m\u001b[0;34m)\u001b[0m\u001b[0;34m\u001b[0m\u001b[0m\n",
      "\u001b[0;32m/anaconda/lib/python3.6/site-packages/matplotlib/collections.py\u001b[0m in \u001b[0;36m__init__\u001b[0;34m(self, meshWidth, meshHeight, coordinates, antialiased, shading, **kwargs)\u001b[0m\n\u001b[1;32m   1805\u001b[0m     def __init__(self, meshWidth, meshHeight, coordinates,\n\u001b[1;32m   1806\u001b[0m                  antialiased=True, shading='flat', **kwargs):\n\u001b[0;32m-> 1807\u001b[0;31m         \u001b[0mCollection\u001b[0m\u001b[0;34m.\u001b[0m\u001b[0m__init__\u001b[0m\u001b[0;34m(\u001b[0m\u001b[0mself\u001b[0m\u001b[0;34m,\u001b[0m \u001b[0;34m**\u001b[0m\u001b[0mkwargs\u001b[0m\u001b[0;34m)\u001b[0m\u001b[0;34m\u001b[0m\u001b[0m\n\u001b[0m\u001b[1;32m   1808\u001b[0m         \u001b[0mself\u001b[0m\u001b[0;34m.\u001b[0m\u001b[0m_meshWidth\u001b[0m \u001b[0;34m=\u001b[0m \u001b[0mmeshWidth\u001b[0m\u001b[0;34m\u001b[0m\u001b[0m\n\u001b[1;32m   1809\u001b[0m         \u001b[0mself\u001b[0m\u001b[0;34m.\u001b[0m\u001b[0m_meshHeight\u001b[0m \u001b[0;34m=\u001b[0m \u001b[0mmeshHeight\u001b[0m\u001b[0;34m\u001b[0m\u001b[0m\n",
      "\u001b[0;32m/anaconda/lib/python3.6/site-packages/matplotlib/collections.py\u001b[0m in \u001b[0;36m__init__\u001b[0;34m(self, edgecolors, facecolors, linewidths, linestyles, antialiaseds, offsets, transOffset, norm, cmap, pickradius, hatch, urls, offset_position, zorder, **kwargs)\u001b[0m\n\u001b[1;32m    161\u001b[0m \u001b[0;34m\u001b[0m\u001b[0m\n\u001b[1;32m    162\u001b[0m         \u001b[0mself\u001b[0m\u001b[0;34m.\u001b[0m\u001b[0m_path_effects\u001b[0m \u001b[0;34m=\u001b[0m \u001b[0;32mNone\u001b[0m\u001b[0;34m\u001b[0m\u001b[0m\n\u001b[0;32m--> 163\u001b[0;31m         \u001b[0mself\u001b[0m\u001b[0;34m.\u001b[0m\u001b[0mupdate\u001b[0m\u001b[0;34m(\u001b[0m\u001b[0mkwargs\u001b[0m\u001b[0;34m)\u001b[0m\u001b[0;34m\u001b[0m\u001b[0m\n\u001b[0m\u001b[1;32m    164\u001b[0m         \u001b[0mself\u001b[0m\u001b[0;34m.\u001b[0m\u001b[0m_paths\u001b[0m \u001b[0;34m=\u001b[0m \u001b[0;32mNone\u001b[0m\u001b[0;34m\u001b[0m\u001b[0m\n\u001b[1;32m    165\u001b[0m \u001b[0;34m\u001b[0m\u001b[0m\n",
      "\u001b[0;32m/anaconda/lib/python3.6/site-packages/matplotlib/artist.py\u001b[0m in \u001b[0;36mupdate\u001b[0;34m(self, props)\u001b[0m\n\u001b[1;32m    883\u001b[0m         \u001b[0;32mtry\u001b[0m\u001b[0;34m:\u001b[0m\u001b[0;34m\u001b[0m\u001b[0m\n\u001b[1;32m    884\u001b[0m             ret = [_update_property(self, k, v)\n\u001b[0;32m--> 885\u001b[0;31m                    for k, v in props.items()]\n\u001b[0m\u001b[1;32m    886\u001b[0m         \u001b[0;32mfinally\u001b[0m\u001b[0;34m:\u001b[0m\u001b[0;34m\u001b[0m\u001b[0m\n\u001b[1;32m    887\u001b[0m             \u001b[0mself\u001b[0m\u001b[0;34m.\u001b[0m\u001b[0meventson\u001b[0m \u001b[0;34m=\u001b[0m \u001b[0mstore\u001b[0m\u001b[0;34m\u001b[0m\u001b[0m\n",
      "\u001b[0;32m/anaconda/lib/python3.6/site-packages/matplotlib/artist.py\u001b[0m in \u001b[0;36m<listcomp>\u001b[0;34m(.0)\u001b[0m\n\u001b[1;32m    883\u001b[0m         \u001b[0;32mtry\u001b[0m\u001b[0;34m:\u001b[0m\u001b[0;34m\u001b[0m\u001b[0m\n\u001b[1;32m    884\u001b[0m             ret = [_update_property(self, k, v)\n\u001b[0;32m--> 885\u001b[0;31m                    for k, v in props.items()]\n\u001b[0m\u001b[1;32m    886\u001b[0m         \u001b[0;32mfinally\u001b[0m\u001b[0;34m:\u001b[0m\u001b[0;34m\u001b[0m\u001b[0m\n\u001b[1;32m    887\u001b[0m             \u001b[0mself\u001b[0m\u001b[0;34m.\u001b[0m\u001b[0meventson\u001b[0m \u001b[0;34m=\u001b[0m \u001b[0mstore\u001b[0m\u001b[0;34m\u001b[0m\u001b[0m\n",
      "\u001b[0;32m/anaconda/lib/python3.6/site-packages/matplotlib/artist.py\u001b[0m in \u001b[0;36m_update_property\u001b[0;34m(self, k, v)\u001b[0m\n\u001b[1;32m    876\u001b[0m                 \u001b[0mfunc\u001b[0m \u001b[0;34m=\u001b[0m \u001b[0mgetattr\u001b[0m\u001b[0;34m(\u001b[0m\u001b[0mself\u001b[0m\u001b[0;34m,\u001b[0m \u001b[0;34m'set_'\u001b[0m \u001b[0;34m+\u001b[0m \u001b[0mk\u001b[0m\u001b[0;34m,\u001b[0m \u001b[0;32mNone\u001b[0m\u001b[0;34m)\u001b[0m\u001b[0;34m\u001b[0m\u001b[0m\n\u001b[1;32m    877\u001b[0m                 \u001b[0;32mif\u001b[0m \u001b[0mfunc\u001b[0m \u001b[0;32mis\u001b[0m \u001b[0;32mNone\u001b[0m \u001b[0;32mor\u001b[0m \u001b[0;32mnot\u001b[0m \u001b[0msix\u001b[0m\u001b[0;34m.\u001b[0m\u001b[0mcallable\u001b[0m\u001b[0;34m(\u001b[0m\u001b[0mfunc\u001b[0m\u001b[0;34m)\u001b[0m\u001b[0;34m:\u001b[0m\u001b[0;34m\u001b[0m\u001b[0m\n\u001b[0;32m--> 878\u001b[0;31m                     \u001b[0;32mraise\u001b[0m \u001b[0mAttributeError\u001b[0m\u001b[0;34m(\u001b[0m\u001b[0;34m'Unknown property %s'\u001b[0m \u001b[0;34m%\u001b[0m \u001b[0mk\u001b[0m\u001b[0;34m)\u001b[0m\u001b[0;34m\u001b[0m\u001b[0m\n\u001b[0m\u001b[1;32m    879\u001b[0m                 \u001b[0;32mreturn\u001b[0m \u001b[0mfunc\u001b[0m\u001b[0;34m(\u001b[0m\u001b[0mv\u001b[0m\u001b[0;34m)\u001b[0m\u001b[0;34m\u001b[0m\u001b[0m\n\u001b[1;32m    880\u001b[0m \u001b[0;34m\u001b[0m\u001b[0m\n",
      "\u001b[0;31mAttributeError\u001b[0m: Unknown property y"
     ]
    }
   ],
   "source": [
    "seaborn.heatmap(data = df_test_grouped,y=[range(12)])\n",
    "sns.plt.show()"
   ]
  },
  {
   "cell_type": "code",
   "execution_count": 55,
   "metadata": {
    "collapsed": false
   },
   "outputs": [
    {
     "ename": "ValueError",
     "evalue": "Could not interpret input '0:13'",
     "output_type": "error",
     "traceback": [
      "\u001b[0;31m---------------------------------------------------------------------------\u001b[0m",
      "\u001b[0;31mValueError\u001b[0m                                Traceback (most recent call last)",
      "\u001b[0;32m<ipython-input-55-53a003790f93>\u001b[0m in \u001b[0;36m<module>\u001b[0;34m()\u001b[0m\n\u001b[0;32m----> 1\u001b[0;31m \u001b[0msns\u001b[0m\u001b[0;34m.\u001b[0m\u001b[0mfactorplot\u001b[0m\u001b[0;34m(\u001b[0m\u001b[0mdata\u001b[0m\u001b[0;34m=\u001b[0m\u001b[0mtrain_r_grouped\u001b[0m\u001b[0;34m,\u001b[0m \u001b[0my\u001b[0m\u001b[0;34m=\u001b[0m\u001b[0;34m\"0:13\"\u001b[0m\u001b[0;34m)\u001b[0m\u001b[0;34m\u001b[0m\u001b[0m\n\u001b[0m\u001b[1;32m      2\u001b[0m \u001b[0msns\u001b[0m\u001b[0;34m.\u001b[0m\u001b[0mplt\u001b[0m\u001b[0;34m.\u001b[0m\u001b[0mshow\u001b[0m\u001b[0;34m(\u001b[0m\u001b[0;34m)\u001b[0m\u001b[0;34m\u001b[0m\u001b[0m\n",
      "\u001b[0;32m/anaconda/lib/python3.6/site-packages/seaborn/categorical.py\u001b[0m in \u001b[0;36mfactorplot\u001b[0;34m(x, y, hue, data, row, col, col_wrap, estimator, ci, n_boot, units, order, hue_order, row_order, col_order, kind, size, aspect, orient, color, palette, legend, legend_out, sharex, sharey, margin_titles, facet_kws, **kwargs)\u001b[0m\n\u001b[1;32m   3389\u001b[0m     \u001b[0;31m# facets to ensure representation of all data in the final plot\u001b[0m\u001b[0;34m\u001b[0m\u001b[0;34m\u001b[0m\u001b[0m\n\u001b[1;32m   3390\u001b[0m     \u001b[0mp\u001b[0m \u001b[0;34m=\u001b[0m \u001b[0m_CategoricalPlotter\u001b[0m\u001b[0;34m(\u001b[0m\u001b[0;34m)\u001b[0m\u001b[0;34m\u001b[0m\u001b[0m\n\u001b[0;32m-> 3391\u001b[0;31m     \u001b[0mp\u001b[0m\u001b[0;34m.\u001b[0m\u001b[0mestablish_variables\u001b[0m\u001b[0;34m(\u001b[0m\u001b[0mx_\u001b[0m\u001b[0;34m,\u001b[0m \u001b[0my_\u001b[0m\u001b[0;34m,\u001b[0m \u001b[0mhue\u001b[0m\u001b[0;34m,\u001b[0m \u001b[0mdata\u001b[0m\u001b[0;34m,\u001b[0m \u001b[0morient\u001b[0m\u001b[0;34m,\u001b[0m \u001b[0morder\u001b[0m\u001b[0;34m,\u001b[0m \u001b[0mhue_order\u001b[0m\u001b[0;34m)\u001b[0m\u001b[0;34m\u001b[0m\u001b[0m\n\u001b[0m\u001b[1;32m   3392\u001b[0m     \u001b[0morder\u001b[0m \u001b[0;34m=\u001b[0m \u001b[0mp\u001b[0m\u001b[0;34m.\u001b[0m\u001b[0mgroup_names\u001b[0m\u001b[0;34m\u001b[0m\u001b[0m\n\u001b[1;32m   3393\u001b[0m     \u001b[0mhue_order\u001b[0m \u001b[0;34m=\u001b[0m \u001b[0mp\u001b[0m\u001b[0;34m.\u001b[0m\u001b[0mhue_names\u001b[0m\u001b[0;34m\u001b[0m\u001b[0m\n",
      "\u001b[0;32m/anaconda/lib/python3.6/site-packages/seaborn/categorical.py\u001b[0m in \u001b[0;36mestablish_variables\u001b[0;34m(self, x, y, hue, data, orient, order, hue_order, units)\u001b[0m\n\u001b[1;32m    149\u001b[0m                 \u001b[0;32mif\u001b[0m \u001b[0misinstance\u001b[0m\u001b[0;34m(\u001b[0m\u001b[0minput\u001b[0m\u001b[0;34m,\u001b[0m \u001b[0mstring_types\u001b[0m\u001b[0;34m)\u001b[0m\u001b[0;34m:\u001b[0m\u001b[0;34m\u001b[0m\u001b[0m\n\u001b[1;32m    150\u001b[0m                     \u001b[0merr\u001b[0m \u001b[0;34m=\u001b[0m \u001b[0;34m\"Could not interpret input '{}'\"\u001b[0m\u001b[0;34m.\u001b[0m\u001b[0mformat\u001b[0m\u001b[0;34m(\u001b[0m\u001b[0minput\u001b[0m\u001b[0;34m)\u001b[0m\u001b[0;34m\u001b[0m\u001b[0m\n\u001b[0;32m--> 151\u001b[0;31m                     \u001b[0;32mraise\u001b[0m \u001b[0mValueError\u001b[0m\u001b[0;34m(\u001b[0m\u001b[0merr\u001b[0m\u001b[0;34m)\u001b[0m\u001b[0;34m\u001b[0m\u001b[0m\n\u001b[0m\u001b[1;32m    152\u001b[0m \u001b[0;34m\u001b[0m\u001b[0m\n\u001b[1;32m    153\u001b[0m             \u001b[0;31m# Figure out the plotting orientation\u001b[0m\u001b[0;34m\u001b[0m\u001b[0;34m\u001b[0m\u001b[0m\n",
      "\u001b[0;31mValueError\u001b[0m: Could not interpret input '0:13'"
     ]
    }
   ],
   "source": [
    "sns.factorplot(data=train_r_grouped, y=\"0:13\")  \n",
    "sns.plt.show()"
   ]
  },
  {
   "cell_type": "code",
   "execution_count": 68,
   "metadata": {
    "collapsed": false
   },
   "outputs": [
    {
     "ename": "SyntaxError",
     "evalue": "invalid syntax (<ipython-input-68-0c88aa34cbe8>, line 3)",
     "output_type": "error",
     "traceback": [
      "\u001b[0;36m  File \u001b[0;32m\"<ipython-input-68-0c88aa34cbe8>\"\u001b[0;36m, line \u001b[0;32m3\u001b[0m\n\u001b[0;31m    train_r_grouped[[x = \"x\",y = \"y\"]].plt()\u001b[0m\n\u001b[0m                       ^\u001b[0m\n\u001b[0;31mSyntaxError\u001b[0m\u001b[0;31m:\u001b[0m invalid syntax\n"
     ]
    }
   ],
   "source": [
    "x = range(13)\n",
    "y = [\"0\",\"1\",\"2\",\"3\",\"4\",\"5\",\"6\",\"7\",\"8\",\"9\",\"10\",\"11\",\"12\"]\n",
    "plt\n",
    "plt.show()\n"
   ]
  },
  {
   "cell_type": "code",
   "execution_count": 72,
   "metadata": {
    "collapsed": false
   },
   "outputs": [
    {
     "data": {
      "image/png": "[encoded data removed]",
      "text/plain": [
       "<matplotlib.figure.Figure at 0x1263e3860>"
      ]
     },
     "metadata": {},
     "output_type": "display_data"
    },
    {
     "data": {
      "image/png": "[encoded data removed]",
      "text/plain": [
       "<matplotlib.figure.Figure at 0x126358e48>"
      ]
     },
     "metadata": {},
     "output_type": "display_data"
    },
    {
     "data": {
      "image/png": "[encoded data removed]",
      "text/plain": [
       "<matplotlib.figure.Figure at 0x133829080>"
      ]
     },
     "metadata": {},
     "output_type": "display_data"
    }
   ],
   "source": [
    "f, ax = plt.subplots(figsize=(12, 9))\n",
    "sns.heatmap(train_r_grouped,vmax=1., square=False).xaxis.tick_top()\n",
    "sns.plt.show()"
   ]
  },
  {
   "cell_type": "code",
   "execution_count": null,
   "metadata": {
    "collapsed": true
   },
   "outputs": [],
   "source": []
  },
  {
   "cell_type": "code",
   "execution_count": null,
   "metadata": {
    "collapsed": true
   },
   "outputs": [],
   "source": []
  },
  {
   "cell_type": "code",
   "execution_count": 113,
   "metadata": {
    "collapsed": false
   },
   "outputs": [
    {
     "data": {
      "image/png": "[encoded data removed]",
      "text/plain": [
       "<matplotlib.figure.Figure at 0x13c395eb8>"
      ]
     },
     "metadata": {},
     "output_type": "display_data"
    }
   ],
   "source": [
    "for i in fine.columns:\n",
    "    plt.magnitude_spectrum(fine[i])\n",
    "    plt.yscale('log')\n",
    "    plt.legend(i)\n",
    "plt.show()\n"
   ]
  },
  {
   "cell_type": "code",
   "execution_count": 36,
   "metadata": {
    "collapsed": true
   },
   "outputs": [],
   "source": []
  },
  {
   "cell_type": "code",
   "execution_count": 116,
   "metadata": {
    "collapsed": false
   },
   "outputs": [],
   "source": []
  },
  {
   "cell_type": "code",
   "execution_count": 3,
   "metadata": {
    "collapsed": false
   },
   "outputs": [],
   "source": []
  },
  {
   "cell_type": "code",
   "execution_count": 115,
   "metadata": {
    "collapsed": false
   },
   "outputs": [],
   "source": []
  },
  {
   "cell_type": "code",
   "execution_count": 8,
   "metadata": {
    "collapsed": false
   },
   "outputs": [],
   "source": []
  },
  {
   "cell_type": "code",
   "execution_count": 312,
   "metadata": {
    "collapsed": false
   },
   "outputs": [
    {
     "data": {
      "text/plain": [
       "0.053181818181818184"
      ]
     },
     "execution_count": 312,
     "metadata": {},
     "output_type": "execute_result"
    }
   ],
   "source": [
    "from sklearn.discriminant_analysis import LinearDiscriminantAnalysis,QuadraticDiscriminantAnalysis\n",
    "lda = LinearDiscriminantAnalysis()\n",
    "lda.fit(X_train_r_grouped,y_train_r_grouped)\n",
    "lda.score(X_test_grouped,y_test_grouped)"
   ]
  },
  {
   "cell_type": "code",
   "execution_count": null,
   "metadata": {
    "collapsed": false
   },
   "outputs": [],
   "source": []
  },
  {
   "cell_type": "code",
   "execution_count": 119,
   "metadata": {
    "collapsed": false
   },
   "outputs": [],
   "source": []
  },
  {
   "cell_type": "code",
   "execution_count": 129,
   "metadata": {
    "collapsed": true
   },
   "outputs": [],
   "source": []
  },
  {
   "cell_type": "code",
   "execution_count": null,
   "metadata": {
    "collapsed": false
   },
   "outputs": [],
   "source": []
  },
  {
   "cell_type": "code",
   "execution_count": 351,
   "metadata": {
    "collapsed": false
   },
   "outputs": [
    {
     "name": "stdout",
     "output_type": "stream",
     "text": [
      "              0        1        2         3         4         5         6  \\\n",
      "168801 -5.87880 -2.77860  0.40941 -0.052843  0.223910  0.101900  0.341810   \n",
      "103276  3.21990 -2.98440 -1.49210 -1.827000 -2.399400 -1.940800 -0.248020   \n",
      "142674 -5.23100 -2.66770  0.54624  0.187720  0.552040  0.507640  0.727240   \n",
      "213039  3.66180 -1.81060 -0.57040 -1.496200 -1.147400 -1.573200  0.030321   \n",
      "241315  4.98050 -0.75695 -0.85048 -3.750900 -0.940600  0.132770 -0.637590   \n",
      "150425  0.47872 -5.13140  0.31172 -0.208030  0.823330  0.646060  0.202560   \n",
      "118168  2.36260 -1.14630 -1.61770 -3.070100 -0.312780 -0.561720 -0.901530   \n",
      "18237  -1.47370 -6.01540  1.32520 -0.639090 -0.327570  0.200230  0.406980   \n",
      "12295  -1.83600 -8.53270  1.43170 -0.600450  1.378400  0.960800  1.568500   \n",
      "234105  5.54130 -1.89230 -0.09912 -1.833100 -3.115400 -1.646700 -0.159570   \n",
      "62613   5.04340 -7.63250 -1.56210 -2.772800 -2.528600 -1.076300  0.887960   \n",
      "225344  0.53817 -2.60570  0.88180 -0.668300 -0.970100 -1.490800 -0.462320   \n",
      "88376  -4.14870 -2.81850  0.28359 -0.389250 -0.199160 -0.110510  0.696060   \n",
      "206065  5.39320 -3.87930 -4.37420 -2.415700  0.581940  0.026109 -0.864450   \n",
      "205135  6.87090 -5.46130 -4.32600 -2.813400 -0.825050 -0.241880 -0.895890   \n",
      "179045  5.95510 -5.67600 -3.43910 -2.093800 -1.441900 -0.531730 -1.149900   \n",
      "135275 -1.87700 -1.55890  1.29720 -0.640290 -0.986170 -0.588580  0.074468   \n",
      "28622   1.08390 -1.85590  2.58770 -0.384970 -1.367000 -1.757100 -1.462100   \n",
      "104621  4.71190 -0.76858 -2.05480 -3.949900 -2.036300  1.295100  0.193310   \n",
      "3736    2.41500 -0.97850 -1.61340 -2.112600 -0.439250 -1.929100 -0.753700   \n",
      "45932   4.54950 -3.19290 -3.85080 -1.489400 -1.867300 -1.020600  0.509620   \n",
      "67711   2.11690 -4.10240  3.08920 -0.703170 -2.197500 -0.687310 -1.992600   \n",
      "229927  6.51260 -4.53230 -2.45760 -2.147700 -2.274900 -1.838300  0.467750   \n",
      "63129   3.41730 -3.03520 -2.86530 -1.147000 -1.718700 -2.293100 -0.005655   \n",
      "13681   3.63190 -4.71920 -1.86460 -2.096200 -1.593000 -1.548400 -1.147500   \n",
      "68184  -4.43640 -4.84800  0.67340  1.525300  0.186180  0.314100  0.551530   \n",
      "226757  2.54780 -3.12810  1.24340 -1.418000 -2.865300 -2.241400 -0.870890   \n",
      "45885   5.03130 -5.55990 -2.14040 -2.126200 -2.476900 -0.882780  0.653980   \n",
      "234734  3.54230 -3.49080 -1.36770 -1.771100 -2.029400 -1.517700 -0.197840   \n",
      "144061 -3.48160 -4.17450  0.46495  0.244780  0.538530  0.222160  0.812770   \n",
      "...         ...      ...      ...       ...       ...       ...       ...   \n",
      "218935 -0.50076 -2.90500  0.26422  0.039012  0.435000  0.351600  0.317230   \n",
      "171690 -1.55310 -7.52900  2.06350  0.112400  1.631800  0.158020  0.031446   \n",
      "42129   3.02240 -4.66970 -1.60140 -1.537200 -2.080200 -1.289500  0.088894   \n",
      "251210 -0.88504 -5.41850  1.27910 -0.942330  0.045130 -0.897200  0.071327   \n",
      "18927   4.45460 -1.89270 -2.87890 -2.160100 -1.530000 -1.032800  0.342530   \n",
      "8048    1.61680 -3.20240  0.94550 -0.082066 -0.235080 -0.133110 -1.515200   \n",
      "214606  0.98650 -1.98840  1.54370  0.941000 -0.393620 -0.601720 -0.751610   \n",
      "111824  2.58720 -1.70510 -0.17907 -2.333300 -0.619270 -0.313340  0.989270   \n",
      "154679  5.03720  0.24753 -0.15870 -3.934300 -2.878300  0.680340 -1.371600   \n",
      "110799  5.63080 -1.62000 -1.90590 -3.693000 -0.434020  0.410690  0.039631   \n",
      "57322   4.56510 -1.73280  0.12772 -2.140500 -0.792490 -1.736700 -1.662700   \n",
      "5814    3.34690 -2.51810  0.59279 -0.554780 -1.298200 -1.707200 -1.595000   \n",
      "4153    3.41980 -1.97980 -0.15051 -1.203300 -1.462200 -2.849900 -1.212400   \n",
      "243597  1.91300 -1.66100  0.81674 -0.978750 -1.524700 -1.487900 -0.089115   \n",
      "83787   4.02040 -2.36130 -0.85499 -2.510400 -1.326100 -2.140300  0.202180   \n",
      "207443  6.46750 -4.45200 -1.58250 -0.279580 -3.207400 -1.378000 -1.731700   \n",
      "129470  0.22661 -3.08420  0.16619 -0.254410  0.042045 -0.338390 -0.581580   \n",
      "79527   4.56340 -0.67250 -3.63630 -2.312000 -1.114700 -0.113530 -0.723740   \n",
      "177823 -2.05320 -5.46520  0.21729 -1.500400  0.427230 -0.016384  0.404240   \n",
      "38782   2.86380 -1.68900 -0.69664 -3.592600 -1.142700 -0.035895 -0.731170   \n",
      "147825  1.63020 -1.29140 -1.20120 -2.092000 -0.458210 -0.629030 -1.133800   \n",
      "215918  2.26560 -1.53240  2.58080 -0.311520 -2.820400 -1.010100 -0.568720   \n",
      "79049   4.05910 -0.25463 -1.08480 -2.470100 -1.514700 -1.613200 -0.345840   \n",
      "57153  -5.39030 -2.52200  0.64204  0.261740  0.626410  0.603740  0.854770   \n",
      "158150 -3.87660 -1.74010  1.57170  0.544140 -0.207490 -0.596740  0.010951   \n",
      "19759   5.47760 -4.86340 -0.91958 -2.513800 -3.184000 -0.891350 -0.294510   \n",
      "71001   2.12070 -3.10170  0.74147 -0.813600 -1.565900 -2.125700 -0.683770   \n",
      "258271 -2.09910 -5.17050  1.22990 -0.650180  0.681090 -0.619870  0.075752   \n",
      "157847  2.11040 -1.16980  1.46950  1.367700 -2.038200 -2.602800 -0.453290   \n",
      "100801  3.67300 -1.39750 -1.21420 -2.664500 -2.150700 -1.571600 -0.503140   \n",
      "\n",
      "               7         8         9        10        11        12  Group_No  \\\n",
      "168801  0.235830  0.290760  0.566170  0.931420  0.685390  0.492560      4339   \n",
      "103276 -0.033779 -0.811070 -0.720040  0.592150 -1.055300  0.213440      2638   \n",
      "142674  0.708900  0.642810  0.441040  0.225640  0.379510  0.775470      3666   \n",
      "213039  0.410010  1.025400 -0.618160 -0.991120 -0.479480  0.445070      5422   \n",
      "241315 -1.408400 -1.054900 -1.013400 -0.817260 -1.426600 -0.607890      5999   \n",
      "150425  0.447580 -0.117490 -0.350540 -0.133700 -0.337790 -0.434160      3888   \n",
      "118168  0.125370 -0.170770 -1.105700 -0.734720 -0.058265  0.141670      3009   \n",
      "18237   0.148040  0.052464  0.464030  0.380870  0.253950 -0.035166       510   \n",
      "12295   0.548020  0.493420  0.855030  0.599880  0.326060  0.416610       351   \n",
      "234105  0.382180 -0.655600 -0.669120  0.333130 -1.086600 -1.181900      5839   \n",
      "62613   0.130530 -0.947970  0.109830 -0.303870 -0.191180 -0.066915      1724   \n",
      "225344 -1.517000 -0.329570 -0.209650  0.911300 -0.500100 -0.233600      5672   \n",
      "88376   0.500590  0.033166  0.141330  0.567470 -0.182440  0.443620      2318   \n",
      "206065 -0.835160 -0.547330 -0.473870 -1.013900 -0.207400 -1.179200      5268   \n",
      "205135 -0.859400 -0.433940 -1.217600 -0.378940  1.004400  0.274670      5241   \n",
      "179045  0.058865 -1.253400 -1.464300 -0.653030 -0.367890 -1.426100      4557   \n",
      "135275 -0.624970  0.497020  0.274870  0.148730 -0.283360  0.095533      3440   \n",
      "28622  -0.874270 -0.131750  0.296070 -0.255240 -0.059198 -0.757790       823   \n",
      "104621 -1.325500 -0.286800 -0.499030 -0.502070 -0.660600 -1.475500      2675   \n",
      "3736   -1.046100  0.238030  0.460360 -0.625250 -1.011100 -0.205190       108   \n",
      "45932  -0.068329 -0.774040 -1.136400 -0.382010  0.098760 -0.924150      1318   \n",
      "67711  -1.740800 -0.197060 -0.457110 -1.100500  0.318920 -1.421000      1835   \n",
      "229927 -0.580160 -0.702300 -1.438600 -0.868320  0.508810 -0.736350      5759   \n",
      "63129  -0.441740 -1.185500 -0.506650  0.279510 -0.842350 -0.170330      1735   \n",
      "13681   0.172240  0.289930 -1.041100 -1.122500 -0.370710 -0.690010       388   \n",
      "68184  -0.619510 -0.270850 -1.019600 -0.795290 -0.214070 -0.091894      1846   \n",
      "226757 -1.408100 -0.713860  0.044014  0.451660 -1.230400  0.328580      5700   \n",
      "45885  -0.758500 -0.877300 -1.262800 -0.569990 -0.276710 -0.328640      1316   \n",
      "234734  0.165960 -0.676080 -0.639500 -0.364200 -0.631610 -0.477160      5850   \n",
      "144061  1.150800  0.859850 -0.100150  0.104850 -0.108400  0.286690      3706   \n",
      "...          ...       ...       ...       ...       ...       ...       ...   \n",
      "218935  0.392530  0.618160  0.311420 -0.036817  0.316590  0.313310      5546   \n",
      "171690  0.270890  0.382610  0.265610  0.673360  0.544320  0.503880      4404   \n",
      "42129  -0.468720 -0.296470 -0.685750  0.527740 -0.514240  1.035700      1204   \n",
      "251210 -0.119950  0.473200  0.525410  0.225790 -0.014561  0.096832      6282   \n",
      "18927  -0.499270 -0.343220 -1.430000 -1.040100  0.416610 -0.632510       530   \n",
      "8048   -0.324860  0.884830 -0.176330 -0.698430 -0.095623  0.384260       231   \n",
      "214606 -2.244700 -0.319230 -0.838610 -0.104780 -0.162590 -0.061146      5454   \n",
      "111824 -1.076900 -0.366810 -0.438130 -0.394770 -1.113100 -0.065892      2854   \n",
      "154679 -0.531330  0.219700 -0.797240  0.133650 -1.823200 -0.687510      4011   \n",
      "110799 -0.500690 -1.516600 -0.296040 -0.992820 -0.993010  0.449950      2828   \n",
      "57322   0.483140 -0.741020 -0.387490 -1.090100 -0.510820 -0.868480      1611   \n",
      "5814    0.503300  0.405370 -0.230650 -0.542950  0.801110 -0.346490       167   \n",
      "4153   -0.328350  0.333460 -0.908220  0.045412 -0.451480 -0.189400       121   \n",
      "243597 -0.640700  0.778270 -0.598050  0.047365 -0.685430  0.399820      6069   \n",
      "83787   0.346850  0.545950 -0.837480 -0.912630 -1.479100  0.348740      2208   \n",
      "207443  0.507130 -1.530300 -0.175020 -0.402060  0.226870 -0.723790      5302   \n",
      "129470 -0.697080 -0.341610 -0.326120 -0.447670 -0.332040 -0.606000      3263   \n",
      "79527  -0.506890 -0.611250 -0.005938 -0.993760 -1.448600  0.311970      2112   \n",
      "177823  0.704590  0.640200  0.446630  0.456590  0.623660  0.230120      4532   \n",
      "38782  -1.432300 -0.724760  0.323370  0.077105 -0.276930 -1.155500      1112   \n",
      "147825 -0.037986 -0.151910 -1.391300 -0.753450 -0.520130 -0.320480      3816   \n",
      "215918 -0.298660 -0.106980 -0.646940  0.150220 -0.767620  0.586030      5480   \n",
      "79049   0.160370  0.887770 -0.888230 -0.669600 -0.748390 -0.056144      2103   \n",
      "57153   0.831190  0.695450  0.341710  0.083210  0.111300  0.575800      1607   \n",
      "158150 -0.447700  1.009200  0.319520  0.103260 -0.411590 -0.053116      4094   \n",
      "19759  -0.315030 -0.825870 -0.016961 -0.835720 -0.153570 -1.117700       551   \n",
      "71001  -0.466810 -0.971210 -0.687640  0.074128 -1.242000 -0.683780      1908   \n",
      "258271 -0.492280 -0.431080 -0.325760  0.084357  0.362800  0.393900      6466   \n",
      "157847 -1.199100 -1.158600 -0.498430 -0.114880 -0.480880 -0.337080      4088   \n",
      "100801 -0.195230 -0.737490 -1.826900 -0.696780 -1.328500 -1.331600      2580   \n",
      "\n",
      "        Count  \n",
      "168801     48  \n",
      "103276     44  \n",
      "142674     33  \n",
      "213039     55  \n",
      "241315     37  \n",
      "150425     53  \n",
      "118168     50  \n",
      "18237      44  \n",
      "12295      50  \n",
      "234105     42  \n",
      "62613      49  \n",
      "225344     41  \n",
      "88376      46  \n",
      "206065     37  \n",
      "205135     37  \n",
      "179045     47  \n",
      "135275     34  \n",
      "28622      50  \n",
      "104621     37  \n",
      "3736       37  \n",
      "45932      35  \n",
      "67711      43  \n",
      "229927     50  \n",
      "63129      41  \n",
      "13681      31  \n",
      "68184      44  \n",
      "226757     62  \n",
      "45885      35  \n",
      "234734     57  \n",
      "144061     40  \n",
      "...       ...  \n",
      "218935     47  \n",
      "171690     53  \n",
      "42129      32  \n",
      "251210     33  \n",
      "18927      48  \n",
      "8048       25  \n",
      "214606     50  \n",
      "111824     38  \n",
      "154679     45  \n",
      "110799     48  \n",
      "57322      39  \n",
      "5814       23  \n",
      "4153       38  \n",
      "243597     42  \n",
      "83787      44  \n",
      "207443     47  \n",
      "129470     50  \n",
      "79527      45  \n",
      "177823     48  \n",
      "38782      29  \n",
      "147825     25  \n",
      "215918     48  \n",
      "79049      54  \n",
      "57153      41  \n",
      "158150     87  \n",
      "19759      33  \n",
      "71001      49  \n",
      "258271     35  \n",
      "157847     52  \n",
      "100801     22  \n",
      "\n",
      "[5000 rows x 15 columns]\n"
     ]
    }
   ],
   "source": [
    "print(X_train_r)"
   ]
  },
  {
   "cell_type": "code",
   "execution_count": 358,
   "metadata": {
    "collapsed": false
   },
   "outputs": [
    {
     "name": "stdout",
     "output_type": "stream",
     "text": [
      "The accuracy of the svm classifier on training data is 0.72 out of 1\n",
      "The accuracy of the svm classifier on test data is 0.43 out of 1\n"
     ]
    }
   ],
   "source": [
    "from sklearn.svm import SVC\n",
    "svm = SVC(kernel='rbf', gamma=.10, C=1.0)\n",
    "svm.fit(X_train_r, y_train_r)\n",
    "\n",
    "print('The accuracy of the svm classifier on training data is {:.2f} out of 1'.format(svm.score(X_train_r, y_train_r)))\n",
    "print('The accuracy of the svm classifier on test data is {:.2f} out of 1'.format(svm.score(X_test, y_test)))"
   ]
  },
  {
   "cell_type": "code",
   "execution_count": null,
   "metadata": {
    "collapsed": false
   },
   "outputs": [],
   "source": [
    "from sklearn.model_selection import GridSearchCV\n",
    "\n",
    "param_range = [0.001, 0.01, 0.1, 1.0, 10.0, 100.0]\n",
    "param_grid = [{'kernel': ['rbf'], 'gamma': [1e-3, 1],\n",
    "                     'C': [0.1, 1, 10, 100, 1000]},\n",
    "                    {'kernel': ['linear'], 'C': [1, 10, 100, 1000]}]\n",
    "\n",
    "gs = GridSearchCV(estimator=svm,\n",
    "                  param_grid=param_grid,\n",
    "                  scoring='accuracy',\n",
    "                  cv=10)\n",
    "\n",
    "# Training and searching hyper parameter space and evaluating model\n",
    "# by using cross validation logic folded into 10\n",
    "gs = gs.fit(X_train_r, y_train_r)\n",
    "\n",
    "print(gs.best_score_)\n",
    "print(gs.best_params_)"
   ]
  },
  {
   "cell_type": "code",
   "execution_count": null,
   "metadata": {
    "collapsed": false
   },
   "outputs": [],
   "source": []
  },
  {
   "cell_type": "code",
   "execution_count": null,
   "metadata": {
    "collapsed": false
   },
   "outputs": [],
   "source": []
  },
  {
   "cell_type": "code",
   "execution_count": null,
   "metadata": {
    "collapsed": false
   },
   "outputs": [],
   "source": [
    "from sklearn.neighbors import KNeighborsClassifier\n",
    "knn = KNeighborsClassifier(n_neighbors=4, p=2, metric='minkowski')\n",
    "knn.fit(X_train_r, y_train_r)\n",
    "\n",
    "print('The accuracy of the knn classifier is {:.2f} out of 1 on training data'.format(knn.score(X_train_r, y_train_r)))\n",
    "print('The accuracy of the knn classifier is {:.2f} out of 1 on test data'.format(knn.score(X_test, y_test)))"
   ]
  },
  {
   "cell_type": "code",
   "execution_count": 43,
   "metadata": {
    "collapsed": false
   },
   "outputs": [
    {
     "name": "stdout",
     "output_type": "stream",
     "text": [
      "The accuracy of the xgb classifier is 0.85 out of 1 on training data\n",
      "The accuracy of the xgb classifier is 0.33 out of 1 on test data\n"
     ]
    }
   ],
   "source": [
    "import xgboost as xgb\n",
    "\n",
    "xgb_clf = xgb.XGBClassifier()\n",
    "xgb_clf = xgb_clf.fit(X_train_r, y_train_r)\n",
    "\n",
    "print('The accuracy of the xgb classifier is {:.2f} out of 1 on training data'.format(xgb_clf.score(X_train_r, y_train_r)))\n",
    "print('The accuracy of the xgb classifier is {:.2f} out of 1 on test data'.format(xgb_clf.score(X_test, y_test)))"
   ]
  },
  {
   "cell_type": "code",
   "execution_count": 41,
   "metadata": {
    "collapsed": false
   },
   "outputs": [
    {
     "ename": "ValueError",
     "evalue": "No axis named 3 for object type <class 'pandas.core.frame.DataFrame'>",
     "output_type": "error",
     "traceback": [
      "\u001b[0;31m---------------------------------------------------------------------------\u001b[0m",
      "\u001b[0;31mValueError\u001b[0m                                Traceback (most recent call last)",
      "\u001b[0;32m<ipython-input-41-ca02833778bf>\u001b[0m in \u001b[0;36m<module>\u001b[0;34m()\u001b[0m\n\u001b[0;32m----> 1\u001b[0;31m \u001b[0mX_train_r\u001b[0m\u001b[0;34m.\u001b[0m\u001b[0mall\u001b[0m\u001b[0;34m(\u001b[0m\u001b[0;36m3\u001b[0m\u001b[0;34m)\u001b[0m\u001b[0;34m\u001b[0m\u001b[0m\n\u001b[0m",
      "\u001b[0;32m/anaconda/lib/python3.6/site-packages/pandas/core/generic.py\u001b[0m in \u001b[0;36mlogical_func\u001b[0;34m(self, axis, bool_only, skipna, level, **kwargs)\u001b[0m\n\u001b[1;32m   6274\u001b[0m         return self._reduce(f, axis=axis, skipna=skipna,\n\u001b[1;32m   6275\u001b[0m                             \u001b[0mnumeric_only\u001b[0m\u001b[0;34m=\u001b[0m\u001b[0mbool_only\u001b[0m\u001b[0;34m,\u001b[0m \u001b[0mfilter_type\u001b[0m\u001b[0;34m=\u001b[0m\u001b[0;34m'bool'\u001b[0m\u001b[0;34m,\u001b[0m\u001b[0;34m\u001b[0m\u001b[0m\n\u001b[0;32m-> 6276\u001b[0;31m                             name=name)\n\u001b[0m\u001b[1;32m   6277\u001b[0m \u001b[0;34m\u001b[0m\u001b[0m\n\u001b[1;32m   6278\u001b[0m     \u001b[0;32mreturn\u001b[0m \u001b[0mset_function_name\u001b[0m\u001b[0;34m(\u001b[0m\u001b[0mlogical_func\u001b[0m\u001b[0;34m,\u001b[0m \u001b[0mname\u001b[0m\u001b[0;34m,\u001b[0m \u001b[0mcls\u001b[0m\u001b[0;34m)\u001b[0m\u001b[0;34m\u001b[0m\u001b[0m\n",
      "\u001b[0;32m/anaconda/lib/python3.6/site-packages/pandas/core/frame.py\u001b[0m in \u001b[0;36m_reduce\u001b[0;34m(self, op, name, axis, skipna, numeric_only, filter_type, **kwds)\u001b[0m\n\u001b[1;32m   5143\u001b[0m     def _reduce(self, op, name, axis=0, skipna=True, numeric_only=None,\n\u001b[1;32m   5144\u001b[0m                 filter_type=None, **kwds):\n\u001b[0;32m-> 5145\u001b[0;31m         \u001b[0maxis\u001b[0m \u001b[0;34m=\u001b[0m \u001b[0mself\u001b[0m\u001b[0;34m.\u001b[0m\u001b[0m_get_axis_number\u001b[0m\u001b[0;34m(\u001b[0m\u001b[0maxis\u001b[0m\u001b[0;34m)\u001b[0m\u001b[0;34m\u001b[0m\u001b[0m\n\u001b[0m\u001b[1;32m   5146\u001b[0m \u001b[0;34m\u001b[0m\u001b[0m\n\u001b[1;32m   5147\u001b[0m         \u001b[0;32mdef\u001b[0m \u001b[0mf\u001b[0m\u001b[0;34m(\u001b[0m\u001b[0mx\u001b[0m\u001b[0;34m)\u001b[0m\u001b[0;34m:\u001b[0m\u001b[0;34m\u001b[0m\u001b[0m\n",
      "\u001b[0;32m/anaconda/lib/python3.6/site-packages/pandas/core/generic.py\u001b[0m in \u001b[0;36m_get_axis_number\u001b[0;34m(self, axis)\u001b[0m\n\u001b[1;32m    349\u001b[0m                 \u001b[0;32mpass\u001b[0m\u001b[0;34m\u001b[0m\u001b[0m\n\u001b[1;32m    350\u001b[0m         raise ValueError('No axis named {0} for object type {1}'\n\u001b[0;32m--> 351\u001b[0;31m                          .format(axis, type(self)))\n\u001b[0m\u001b[1;32m    352\u001b[0m \u001b[0;34m\u001b[0m\u001b[0m\n\u001b[1;32m    353\u001b[0m     \u001b[0;32mdef\u001b[0m \u001b[0m_get_axis_name\u001b[0m\u001b[0;34m(\u001b[0m\u001b[0mself\u001b[0m\u001b[0;34m,\u001b[0m \u001b[0maxis\u001b[0m\u001b[0;34m)\u001b[0m\u001b[0;34m:\u001b[0m\u001b[0;34m\u001b[0m\u001b[0m\n",
      "\u001b[0;31mValueError\u001b[0m: No axis named 3 for object type <class 'pandas.core.frame.DataFrame'>"
     ]
    }
   ],
   "source": []
  },
  {
   "cell_type": "code",
   "execution_count": null,
   "metadata": {
    "collapsed": true
   },
   "outputs": [],
   "source": []
  },
  {
   "cell_type": "code",
   "execution_count": null,
   "metadata": {
    "collapsed": true
   },
   "outputs": [],
   "source": []
  }
 ],
 "metadata": {
  "kernelspec": {
   "display_name": "Python 3",
   "language": "python",
   "name": "python3"
  },
  "language_info": {
   "codemirror_mode": {
    "name": "ipython",
    "version": 3
   },
   "file_extension": ".py",
   "mimetype": "text/x-python",
   "name": "python",
   "nbconvert_exporter": "python",
   "pygments_lexer": "ipython3",
   "version": "3.6.0"
  }
 },
 "nbformat": 4,
 "nbformat_minor": 2
}
